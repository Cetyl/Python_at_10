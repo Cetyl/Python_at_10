{
 "cells": [
  {
   "cell_type": "code",
   "execution_count": 1,
   "metadata": {},
   "outputs": [
    {
     "name": "stdout",
     "output_type": "stream",
     "text": [
      "{2, 3, 4, 7, 8}\n"
     ]
    }
   ],
   "source": [
    "s={2,3,2,2,4,7,8}\n",
    "print(s)"
   ]
  },
  {
   "cell_type": "code",
   "execution_count": 2,
   "metadata": {},
   "outputs": [
    {
     "name": "stdout",
     "output_type": "stream",
     "text": [
      "False\n",
      "19\n",
      "Carla\n",
      "5.9\n"
     ]
    }
   ],
   "source": [
    "info = {\"Carla\", 19, False, 5.9}\n",
    "for i in info :\n",
    "    print(i)"
   ]
  },
  {
   "cell_type": "code",
   "execution_count": 6,
   "metadata": {},
   "outputs": [
    {
     "name": "stdout",
     "output_type": "stream",
     "text": [
      "{'Tokyo', 'Seoul', 'Kabul', 'Delhi', 'Berlin', 'Madrid'}\n",
      "{'Tokyo', 'Seoul', 'Kabul', 'Delhi', 'Berlin', 'Madrid'} {'Seoul', 'Madrid', 'Tokyo', 'Kabul'}\n"
     ]
    }
   ],
   "source": [
    "cities = {\"Tokyo\", \"Madrid\", \"Berlin\", \"Delhi\"}\n",
    "cities2 = {\"Tokyo\", \"Seoul\", \"Kabul\", \"Madrid\"}\n",
    "cities3 = cities.union(cities2)\n",
    "cities.update(cities2)\n",
    "print(cities3)\n",
    "print(cities,cities2)"
   ]
  },
  {
   "cell_type": "code",
   "execution_count": 8,
   "metadata": {},
   "outputs": [
    {
     "name": "stdout",
     "output_type": "stream",
     "text": [
      "{'Tokyo', 'Seoul', 'Kabul', 'Delhi', 'Berlin', 'Madrid'}\n",
      "{'Tokyo', 'Seoul', 'Kabul', 'Delhi', 'Berlin', 'Madrid'}\n"
     ]
    }
   ],
   "source": [
    "cities = {\"Tokyo\", \"Madrid\", \"Berlin\", \"Delhi\"}\n",
    "cities2 = {\"Tokyo\", \"Seoul\", \"Kabul\", \"Madrid\"}\n",
    "cities3 = cities.union(cities2)\n",
    "cities.update(cities2)\n",
    "print(cities3)\n",
    "print(cities)"
   ]
  },
  {
   "cell_type": "code",
   "execution_count": 9,
   "metadata": {},
   "outputs": [
    {
     "name": "stdout",
     "output_type": "stream",
     "text": [
      "{'Madrid', 'Tokyo'}\n"
     ]
    }
   ],
   "source": [
    "cities = {\"Tokyo\", \"Madrid\", \"Berlin\", \"Delhi\"}\n",
    "cities2 = {\"Tokyo\", \"Seoul\", \"Kabul\", \"Madrid\"}\n",
    "cities3 = cities.intersection(cities2)\n",
    "print(cities3)"
   ]
  },
  {
   "cell_type": "code",
   "execution_count": 10,
   "metadata": {},
   "outputs": [
    {
     "name": "stdout",
     "output_type": "stream",
     "text": [
      "{'Madrid', 'Tokyo'}\n"
     ]
    }
   ],
   "source": [
    "cities = {\"Tokyo\", \"Madrid\", \"Berlin\", \"Delhi\"}\n",
    "cities2 = {\"Tokyo\", \"Seoul\", \"Kabul\", \"Madrid\"}\n",
    "cities.intersection_update(cities2)\n",
    "print(cities)"
   ]
  },
  {
   "cell_type": "code",
   "execution_count": 11,
   "metadata": {},
   "outputs": [
    {
     "name": "stdout",
     "output_type": "stream",
     "text": [
      "{'Seoul', 'Kabul', 'Delhi', 'Berlin'}\n"
     ]
    }
   ],
   "source": [
    "cities = {\"Tokyo\", \"Madrid\", \"Berlin\", \"Delhi\"}\n",
    "cities2 = {\"Tokyo\", \"Seoul\", \"Kabul\", \"Madrid\"}\n",
    "cities3 = cities.symmetric_difference(cities2)\n",
    "print(cities3)"
   ]
  },
  {
   "cell_type": "code",
   "execution_count": 12,
   "metadata": {},
   "outputs": [
    {
     "name": "stdout",
     "output_type": "stream",
     "text": [
      "{'Seoul', 'Kabul', 'Delhi', 'Berlin'}\n"
     ]
    }
   ],
   "source": [
    "cities = {\"Tokyo\", \"Madrid\", \"Berlin\", \"Delhi\"}\n",
    "cities2 = {\"Tokyo\", \"Seoul\", \"Kabul\", \"Madrid\"}\n",
    "cities.symmetric_difference_update(cities2)\n",
    "print(cities)"
   ]
  },
  {
   "cell_type": "code",
   "execution_count": 13,
   "metadata": {},
   "outputs": [
    {
     "name": "stdout",
     "output_type": "stream",
     "text": [
      "{'Berlin', 'Madrid', 'Tokyo'}\n"
     ]
    }
   ],
   "source": [
    "cities = {\"Tokyo\", \"Madrid\", \"Berlin\", \"Delhi\"}\n",
    "cities2 = {\"Seoul\", \"Kabul\", \"Delhi\"}\n",
    "cities3 = cities.difference(cities2)\n",
    "print(cities3)"
   ]
  },
  {
   "cell_type": "code",
   "execution_count": 14,
   "metadata": {},
   "outputs": [
    {
     "name": "stdout",
     "output_type": "stream",
     "text": [
      "{'Berlin', 'Madrid', 'Tokyo'}\n"
     ]
    }
   ],
   "source": [
    "cities = {\"Tokyo\", \"Madrid\", \"Berlin\", \"Delhi\"}\n",
    "cities2 = {\"Seoul\", \"Kabul\", \"Delhi\"}\n",
    "print(cities.difference(cities2))"
   ]
  }
 ],
 "metadata": {
  "kernelspec": {
   "display_name": "base",
   "language": "python",
   "name": "python3"
  },
  "language_info": {
   "codemirror_mode": {
    "name": "ipython",
    "version": 3
   },
   "file_extension": ".py",
   "mimetype": "text/x-python",
   "name": "python",
   "nbconvert_exporter": "python",
   "pygments_lexer": "ipython3",
   "version": "3.7.3"
  }
 },
 "nbformat": 4,
 "nbformat_minor": 2
}
