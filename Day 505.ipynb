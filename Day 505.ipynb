{
 "cells": [
  {
   "cell_type": "code",
   "execution_count": 2,
   "metadata": {},
   "outputs": [],
   "source": [
    "x = 5\n",
    "y = \"Hello, World!\""
   ]
  },
  {
   "cell_type": "code",
   "execution_count": 3,
   "metadata": {},
   "outputs": [
    {
     "name": "stdout",
     "output_type": "stream",
     "text": [
      "5\n",
      "10\n",
      "Hello, World!\n"
     ]
    }
   ],
   "source": [
    "x = 10 # global variable\n",
    "\n",
    "def my_function():\n",
    "  y = 5 # local variable\n",
    "  print(y)\n",
    "\n",
    "my_function()\n",
    "print(x)\n",
    "print(y) # this will cause an error because y is a local variable and is not accessible outside of the function"
   ]
  },
  {
   "cell_type": "code",
   "execution_count": 4,
   "metadata": {},
   "outputs": [
    {
     "name": "stdout",
     "output_type": "stream",
     "text": [
      "5\n",
      "Hello, World!\n"
     ]
    }
   ],
   "source": [
    "x = 10 # global variable\n",
    "\n",
    "def my_function():\n",
    "  global x\n",
    "  x = 5 # this will change the value of the global variable x\n",
    "  y = 5 # local variable\n",
    "\n",
    "my_function()\n",
    "print(x) # prints 5\n",
    "print(y) # this will cause an error because y is a local variable and is not accessible outside of the function"
   ]
  },
  {
   "cell_type": "code",
   "execution_count": 5,
   "metadata": {},
   "outputs": [
    {
     "name": "stdout",
     "output_type": "stream",
     "text": [
      "I am a local variable\n"
     ]
    }
   ],
   "source": [
    "def my_function():\n",
    "    local_var = \"I am a local variable\"\n",
    "    print(local_var)\n",
    "\n",
    "my_function()  # Output: I am a local variable\n",
    "# print(local_var)  # This will raise a NameError"
   ]
  },
  {
   "cell_type": "code",
   "execution_count": 6,
   "metadata": {},
   "outputs": [
    {
     "name": "stdout",
     "output_type": "stream",
     "text": [
      "I am a global variable\n",
      "I am a global variable\n"
     ]
    }
   ],
   "source": [
    "global_var = \"I am a global variable\"\n",
    "\n",
    "def my_function():\n",
    "    print(global_var)\n",
    "\n",
    "my_function()  # Output: I am a global variable\n",
    "print(global_var)  # Output: I am a global variable"
   ]
  },
  {
   "cell_type": "code",
   "execution_count": 7,
   "metadata": {},
   "outputs": [
    {
     "name": "stdout",
     "output_type": "stream",
     "text": [
      "1\n",
      "2\n",
      "2\n"
     ]
    }
   ],
   "source": [
    "counter = 0\n",
    "\n",
    "def increment():\n",
    "    global counter\n",
    "    counter += 1\n",
    "    print(counter)\n",
    "\n",
    "increment()  # Output: 1\n",
    "increment()  # Output: 2\n",
    "print(counter)  # Output: 2"
   ]
  }
 ],
 "metadata": {
  "kernelspec": {
   "display_name": "base",
   "language": "python",
   "name": "python3"
  },
  "language_info": {
   "codemirror_mode": {
    "name": "ipython",
    "version": 3
   },
   "file_extension": ".py",
   "mimetype": "text/x-python",
   "name": "python",
   "nbconvert_exporter": "python",
   "pygments_lexer": "ipython3",
   "version": "3.7.3"
  }
 },
 "nbformat": 4,
 "nbformat_minor": 2
}
