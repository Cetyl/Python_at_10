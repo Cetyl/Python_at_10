{
 "cells": [
  {
   "cell_type": "code",
   "execution_count": 34,
   "metadata": {},
   "outputs": [
    {
     "name": "stdout",
     "output_type": "stream",
     "text": [
      "decoded_message: rohan\n"
     ]
    }
   ],
   "source": [
    "import random\n",
    "import string\n",
    "\n",
    "action = input(\"code or decode\").strip()\n",
    "message = input(\"write the message for coding or decoding\").strip()\n",
    "\n",
    "if action == 'code':\n",
    "    if len(message) >= 3:\n",
    "        random_start = ''.join(random.choices(string.ascii_letters, k=3))\n",
    "        random_end = ''.join(random.choices(string.ascii_letters, k=3))\n",
    "        coded_message = random_start + message[1:] + message[0] + random_end\n",
    "        print(\"coded_message:\",coded_message)\n",
    "    else:\n",
    "        print(\"coded_message:\",message[::-1])    \n",
    "        \n",
    "elif action == 'decode':\n",
    "    if len(message) < 3:\n",
    "        print(\"decoded_message:\",message[::-1])\n",
    "    else:\n",
    "        trimmed_message = message[3:-3]\n",
    "        decoded_message = trimmed_message[-1] + trimmed_message[:-1]   \n",
    "        print (\"decoded_message:\", decoded_message)\n",
    "else:\n",
    "    print(\"wrong input\")        \n",
    "        \n",
    "            \n"
   ]
  },
  {
   "cell_type": "code",
   "execution_count": null,
   "metadata": {},
   "outputs": [],
   "source": [
    "import random\n",
    "import string\n",
    "\n",
    "def generate_random_string(length=3):\n",
    "    \"\"\"Generate a random string of specified length.\"\"\"\n",
    "    return ''.join(random.choices(string.ascii_letters, k=length))\n",
    "\n",
    "def code_word(word):\n",
    "    \"\"\"Encode the word into secret code language.\"\"\"\n",
    "    if len(word) >= 3:\n",
    "        random_start = generate_random_string()\n",
    "        random_end = generate_random_string()\n",
    "        coded_message = random_start + word[1:] + word[0] + random_end\n",
    "        return coded_message\n",
    "    else:\n",
    "        return word[::-1]\n",
    "\n",
    "def decode_word(word):\n",
    "    \"\"\"Decode the word from secret code language.\"\"\"\n",
    "    if len(word) < 3:\n",
    "        return word[::-1]\n",
    "    else:\n",
    "        trimmed_message = word[3:-3]\n",
    "        decoded_message = trimmed_message[-1] + trimmed_message[:-1]\n",
    "        return decoded_message\n",
    "\n",
    "def main():\n",
    "    # User input for action\n",
    "    action = input(\"Do you want to code or decode a message? (type 'code' or 'decode'): \").strip().lower()\n",
    "    message = input(\"Enter your message: \").strip()\n",
    "\n",
    "    if action == 'code':\n",
    "        result = code_word(message)\n",
    "        print(\"Coded message:\", result)\n",
    "    elif action == 'decode':\n",
    "        result = decode_word(message)\n",
    "        print(\"Decoded message:\", result)\n",
    "    else:\n",
    "        print(\"Invalid option.\")\n",
    "\n",
    "if __name__ == \"__main__\":\n",
    "    main()\n"
   ]
  }
 ],
 "metadata": {
  "kernelspec": {
   "display_name": "base",
   "language": "python",
   "name": "python3"
  },
  "language_info": {
   "codemirror_mode": {
    "name": "ipython",
    "version": 3
   },
   "file_extension": ".py",
   "mimetype": "text/x-python",
   "name": "python",
   "nbconvert_exporter": "python",
   "pygments_lexer": "ipython3",
   "version": "3.7.3"
  }
 },
 "nbformat": 4,
 "nbformat_minor": 2
}
