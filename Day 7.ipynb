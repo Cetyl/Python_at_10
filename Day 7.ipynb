{
 "cells": [
  {
   "cell_type": "markdown",
   "metadata": {},
   "source": [
    "## If - Else -Elif statements\n"
   ]
  },
  {
   "cell_type": "code",
   "execution_count": 3,
   "metadata": {},
   "outputs": [
    {
     "name": "stdout",
     "output_type": "stream",
     "text": [
      "this year cup is ours\n"
     ]
    }
   ],
   "source": [
    "# write a statement with if else and elif\n",
    "\n",
    "ipl = 'rcb'\n",
    "\n",
    "if ipl =='rcb':\n",
    "    print('this year cup is ours')\n",
    "else :\n",
    "    print('we lost')"
   ]
  },
  {
   "cell_type": "code",
   "execution_count": 6,
   "metadata": {},
   "outputs": [
    {
     "name": "stdout",
     "output_type": "stream",
     "text": [
      "i am saved\n"
     ]
    }
   ],
   "source": [
    "name = 'roman'\n",
    "\n",
    "if name == 'gunter':\n",
    "    print ('i like to chop')\n",
    "elif name == 'tim':\n",
    "    print('god was never on your side')\n",
    "else :\n",
    "    print('i am saved')"
   ]
  },
  {
   "cell_type": "markdown",
   "metadata": {},
   "source": [
    "## For Loops"
   ]
  },
  {
   "cell_type": "code",
   "execution_count": 15,
   "metadata": {},
   "outputs": [
    {
     "name": "stdout",
     "output_type": "stream",
     "text": [
      "0\n",
      "1\n",
      "2\n",
      "3\n",
      "4\n",
      "5\n",
      "6\n",
      "7\n",
      "8\n",
      "9\n",
      "10\n"
     ]
    }
   ],
   "source": [
    "# print number using for loops\n",
    "num = [0,1,2,3,4,5,6,7,8,9,10]\n",
    "for new_num in num:\n",
    "        print (new_num)\n"
   ]
  },
  {
   "cell_type": "code",
   "execution_count": 22,
   "metadata": {},
   "outputs": [
    {
     "name": "stdout",
     "output_type": "stream",
     "text": [
      "even number 0\n",
      "odd number 1\n",
      "even number 2\n",
      "odd number 3\n",
      "even number 4\n",
      "odd number 5\n",
      "even number 6\n",
      "odd number 7\n",
      "even number 8\n",
      "odd number 9\n",
      "even number 10\n"
     ]
    }
   ],
   "source": [
    "# print a odd number using for loops\n",
    "num = [0,1,2,3,4,5,6,7,8,9,10]\n",
    "for odd_num in num :\n",
    "    # check odd number\n",
    "    if odd_num % 2 != 0 :\n",
    "        print('odd number',odd_num)\n",
    "    else :\n",
    "        print ('even number',odd_num)"
   ]
  },
  {
   "cell_type": "code",
   "execution_count": 28,
   "metadata": {},
   "outputs": [
    {
     "name": "stdout",
     "output_type": "stream",
     "text": [
      "55\n"
     ]
    }
   ],
   "source": [
    "list_sum = 0\n",
    "list1 = [1,2,3,4,5,6,7,8,9,10]\n",
    "\n",
    "for num in list1:\n",
    "    list_sum = num + list_sum\n",
    "print (list_sum)"
   ]
  },
  {
   "cell_type": "code",
   "execution_count": 29,
   "metadata": {},
   "outputs": [
    {
     "name": "stdout",
     "output_type": "stream",
     "text": [
      "T\n",
      "h\n",
      "i\n",
      "s\n",
      " \n",
      "i\n",
      "s\n",
      " \n",
      "a\n",
      " \n",
      "s\n",
      "t\n",
      "r\n",
      "i\n",
      "n\n",
      "g\n",
      ".\n"
     ]
    }
   ],
   "source": [
    "# for loop for the string\n",
    "string = 'This is a string.'\n",
    "for letter in string:\n",
    "    print(letter)"
   ]
  },
  {
   "cell_type": "code",
   "execution_count": 32,
   "metadata": {},
   "outputs": [
    {
     "name": "stdout",
     "output_type": "stream",
     "text": [
      "1\n",
      "2\n",
      "3\n",
      "4\n",
      "5\n"
     ]
    }
   ],
   "source": [
    "# tuples\n",
    "tup = (1,2,3,4,5)\n",
    "for num in tup:\n",
    "    print (num)"
   ]
  },
  {
   "cell_type": "code",
   "execution_count": 34,
   "metadata": {},
   "outputs": [
    {
     "name": "stdout",
     "output_type": "stream",
     "text": [
      "(2, 4)\n",
      "(6, 8)\n",
      "(10, 12)\n"
     ]
    }
   ],
   "source": [
    "# tuple unpacking\n",
    "list2 = [(2,4),(6,8),(10,12)]\n",
    "\n",
    "for num in list2 :\n",
    "    print(num)"
   ]
  },
  {
   "cell_type": "code",
   "execution_count": 36,
   "metadata": {},
   "outputs": [
    {
     "name": "stdout",
     "output_type": "stream",
     "text": [
      "2\n",
      "4\n",
      "6\n",
      "8\n",
      "10\n",
      "12\n"
     ]
    }
   ],
   "source": [
    "# tuple unpacking\n",
    "for (a,b) in list2:\n",
    "    print(a)\n",
    "    print(b)"
   ]
  },
  {
   "cell_type": "code",
   "execution_count": 44,
   "metadata": {},
   "outputs": [
    {
     "name": "stdout",
     "output_type": "stream",
     "text": [
      "('k1', 1)\n",
      "('k2', 2)\n",
      "('k3', 3)\n"
     ]
    }
   ],
   "source": [
    "# dictonarties\n",
    "d = {'k1':1,'k2':2,'k3':3}\n",
    "for num in d.items() :\n",
    "    print (num)\n",
    "    "
   ]
  },
  {
   "cell_type": "code",
   "execution_count": 46,
   "metadata": {},
   "outputs": [
    {
     "name": "stdout",
     "output_type": "stream",
     "text": [
      "k1\n",
      "1\n",
      "k2\n",
      "2\n",
      "k3\n",
      "3\n"
     ]
    }
   ],
   "source": [
    "# dictionaries unpacking\n",
    "for (k,v) in d.items():\n",
    "    print(k)\n",
    "    print(v)"
   ]
  },
  {
   "cell_type": "code",
   "execution_count": 51,
   "metadata": {},
   "outputs": [
    {
     "data": {
      "text/plain": [
       "['k1', 'k2', 'k3']"
      ]
     },
     "execution_count": 51,
     "metadata": {},
     "output_type": "execute_result"
    }
   ],
   "source": [
    "# sort the keys\n",
    "sorted (d.keys())"
   ]
  },
  {
   "cell_type": "code",
   "execution_count": 52,
   "metadata": {},
   "outputs": [
    {
     "data": {
      "text/plain": [
       "[1, 2, 3]"
      ]
     },
     "execution_count": 52,
     "metadata": {},
     "output_type": "execute_result"
    }
   ],
   "source": [
    "#list the values \n",
    "list (d.values())"
   ]
  },
  {
   "cell_type": "code",
   "execution_count": null,
   "metadata": {},
   "outputs": [],
   "source": []
  }
 ],
 "metadata": {
  "kernelspec": {
   "display_name": "Python 3",
   "language": "python",
   "name": "python3"
  },
  "language_info": {
   "codemirror_mode": {
    "name": "ipython",
    "version": 3
   },
   "file_extension": ".py",
   "mimetype": "text/x-python",
   "name": "python",
   "nbconvert_exporter": "python",
   "pygments_lexer": "ipython3",
   "version": "3.7.3"
  }
 },
 "nbformat": 4,
 "nbformat_minor": 2
}
