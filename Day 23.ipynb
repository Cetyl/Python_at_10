{
 "cells": [
  {
   "cell_type": "markdown",
   "metadata": {},
   "source": [
    "## Displaying information"
   ]
  },
  {
   "cell_type": "code",
   "execution_count": 1,
   "metadata": {},
   "outputs": [
    {
     "name": "stdout",
     "output_type": "stream",
     "text": [
      "[1, 2, 3]\n"
     ]
    }
   ],
   "source": [
    "# just adding a skeleton to the project\n",
    "print ([1,2,3])"
   ]
  },
  {
   "cell_type": "code",
   "execution_count": 2,
   "metadata": {},
   "outputs": [
    {
     "name": "stdout",
     "output_type": "stream",
     "text": [
      "[1, 2, 3]\n",
      "[1, 2, 3]\n",
      "[1, 2, 3]\n"
     ]
    }
   ],
   "source": [
    "#printing in unison\n",
    "print ([1,2,3])\n",
    "print ([1,2,3])\n",
    "print ([1,2,3])"
   ]
  },
  {
   "cell_type": "code",
   "execution_count": 5,
   "metadata": {},
   "outputs": [
    {
     "name": "stdout",
     "output_type": "stream",
     "text": [
      "['', '', '']\n",
      "['', '', '']\n",
      "['', '', '']\n"
     ]
    }
   ],
   "source": [
    "#printing strings in unison\n",
    "print (['','',''])\n",
    "print (['','',''])\n",
    "print (['','',''])"
   ]
  },
  {
   "cell_type": "code",
   "execution_count": 6,
   "metadata": {},
   "outputs": [],
   "source": [
    "# writing a function for printing rows in unison\n",
    "\n",
    "row1 = (['','',''])\n",
    "row2 = (['','',''])\n",
    "row3 = (['','',''])\n",
    "\n",
    "def display(row1,row2,row3):\n",
    "    print(row1)\n",
    "    print(row2)\n",
    "    print(row3)"
   ]
  },
  {
   "cell_type": "code",
   "execution_count": 12,
   "metadata": {},
   "outputs": [
    {
     "name": "stdout",
     "output_type": "stream",
     "text": [
      "['', '', '']\n",
      "['', 'X', '']\n",
      "['', '', '']\n"
     ]
    }
   ],
   "source": [
    "display(row1,row2,row3)"
   ]
  },
  {
   "cell_type": "code",
   "execution_count": 9,
   "metadata": {},
   "outputs": [],
   "source": [
    "row2[1] = 'X'"
   ]
  },
  {
   "cell_type": "code",
   "execution_count": 11,
   "metadata": {},
   "outputs": [
    {
     "data": {
      "text/plain": [
       "['', 'X', '']"
      ]
     },
     "execution_count": 11,
     "metadata": {},
     "output_type": "execute_result"
    }
   ],
   "source": [
    "row2"
   ]
  },
  {
   "cell_type": "code",
   "execution_count": 15,
   "metadata": {},
   "outputs": [
    {
     "name": "stdout",
     "output_type": "stream",
     "text": [
      "['', '', '']\n",
      "['', 'X', '']\n",
      "['', '', '']\n"
     ]
    }
   ],
   "source": [
    "# basic level tic tac toe build\n",
    "display(row1,row2,row3)"
   ]
  },
  {
   "cell_type": "code",
   "execution_count": 35,
   "metadata": {},
   "outputs": [
    {
     "name": "stdout",
     "output_type": "stream",
     "text": [
      "enter a number : 5\n"
     ]
    }
   ],
   "source": [
    "# inputs\n",
    "result = input('enter a number : ')\n"
   ]
  },
  {
   "cell_type": "code",
   "execution_count": 36,
   "metadata": {},
   "outputs": [
    {
     "data": {
      "text/plain": [
       "'5'"
      ]
     },
     "execution_count": 36,
     "metadata": {},
     "output_type": "execute_result"
    }
   ],
   "source": [
    "result"
   ]
  },
  {
   "cell_type": "code",
   "execution_count": 37,
   "metadata": {},
   "outputs": [
    {
     "data": {
      "text/plain": [
       "str"
      ]
     },
     "execution_count": 37,
     "metadata": {},
     "output_type": "execute_result"
    }
   ],
   "source": [
    "type(result)"
   ]
  },
  {
   "cell_type": "code",
   "execution_count": 38,
   "metadata": {},
   "outputs": [
    {
     "data": {
      "text/plain": [
       "int"
      ]
     },
     "execution_count": 38,
     "metadata": {},
     "output_type": "execute_result"
    }
   ],
   "source": [
    "# convert it into integer\n",
    "result = int(result)\n",
    "type(result)"
   ]
  },
  {
   "cell_type": "code",
   "execution_count": 48,
   "metadata": {},
   "outputs": [
    {
     "name": "stdout",
     "output_type": "stream",
     "text": [
      "enter a number : 1\n"
     ]
    }
   ],
   "source": [
    "# or we just add in intin the initial command\n",
    "result = int ( input('enter a number : '))"
   ]
  },
  {
   "cell_type": "code",
   "execution_count": 49,
   "metadata": {},
   "outputs": [
    {
     "data": {
      "text/plain": [
       "1"
      ]
     },
     "execution_count": 49,
     "metadata": {},
     "output_type": "execute_result"
    }
   ],
   "source": [
    "result"
   ]
  },
  {
   "cell_type": "code",
   "execution_count": 50,
   "metadata": {},
   "outputs": [
    {
     "data": {
      "text/plain": [
       "int"
      ]
     },
     "execution_count": 50,
     "metadata": {},
     "output_type": "execute_result"
    }
   ],
   "source": [
    "type(result)"
   ]
  },
  {
   "cell_type": "code",
   "execution_count": 52,
   "metadata": {},
   "outputs": [
    {
     "data": {
      "text/plain": [
       "'X'"
      ]
     },
     "execution_count": 52,
     "metadata": {},
     "output_type": "execute_result"
    }
   ],
   "source": [
    "# add to the row above\n",
    "row2[result]  # it has indexed the value of result viz = row[1]"
   ]
  },
  {
   "cell_type": "code",
   "execution_count": 83,
   "metadata": {},
   "outputs": [],
   "source": [
    "# another method\n",
    "\n",
    "def user_choice():\n",
    "    choice = ''\n",
    "    acceptable_range = range(0,9)\n",
    "    within_range = False\n",
    "    \n",
    "    while choice.isdigit()==False or within_range == False :\n",
    "        choice = input('Please enter a number (1-9)')\n",
    "        \n",
    "      # digit check\n",
    "        if choice.isdigit()==False:\n",
    "            print ('sorry not a digit')\n",
    "            \n",
    "      #range check\n",
    "        if choice.isdigit()==True:\n",
    "            if int(choice) in acceptable_range :\n",
    "                within_range=True\n",
    "            else:\n",
    "                within_range=False\n",
    "                print('not in range try again')\n",
    "    return int(choice)            "
   ]
  },
  {
   "cell_type": "code",
   "execution_count": 84,
   "metadata": {},
   "outputs": [
    {
     "name": "stdout",
     "output_type": "stream",
     "text": [
      "Please enter a number (1-9)101\n",
      "not in range try again\n",
      "Please enter a number (1-9)2\n"
     ]
    },
    {
     "data": {
      "text/plain": [
       "2"
      ]
     },
     "execution_count": 84,
     "metadata": {},
     "output_type": "execute_result"
    }
   ],
   "source": [
    "user_choice()"
   ]
  },
  {
   "cell_type": "code",
   "execution_count": 79,
   "metadata": {},
   "outputs": [],
   "source": [
    "num ='100'"
   ]
  },
  {
   "cell_type": "code",
   "execution_count": 80,
   "metadata": {},
   "outputs": [
    {
     "data": {
      "text/plain": [
       "True"
      ]
     },
     "execution_count": 80,
     "metadata": {},
     "output_type": "execute_result"
    }
   ],
   "source": [
    "# Return True if the string is a digit string, False otherwise.\n",
    "num.isdigit()"
   ]
  },
  {
   "cell_type": "code",
   "execution_count": 76,
   "metadata": {},
   "outputs": [],
   "source": [
    "def user_choice():\n",
    "\n",
    "        while True:\n",
    "\n",
    "            choice = input('Please enter a number (1-9)')\n",
    "\n",
    "            if choice.isdigit() and int(choice) in range(1,10):\n",
    "                return int(choice)\n",
    "\n",
    "            elif choice.isdigit() and int(choice) not in range(0-10):\n",
    "                print('you are out of acceptable range (1-9)')\n",
    "            \n",
    "            else:\n",
    "                print('Sorry! that was not a digit')"
   ]
  },
  {
   "cell_type": "code",
   "execution_count": 77,
   "metadata": {},
   "outputs": [
    {
     "name": "stdout",
     "output_type": "stream",
     "text": [
      "Please enter a number (1-9)101\n",
      "you are out of acceptable range (1-9)\n",
      "Please enter a number (1-9)1\n"
     ]
    },
    {
     "data": {
      "text/plain": [
       "1"
      ]
     },
     "execution_count": 77,
     "metadata": {},
     "output_type": "execute_result"
    }
   ],
   "source": [
    "user_choice()"
   ]
  },
  {
   "cell_type": "code",
   "execution_count": 3,
   "metadata": {},
   "outputs": [],
   "source": [
    "def user_guess():\n",
    "    guess = ''\n",
    "    \n",
    "    while guess not in ['0','1','2']:\n",
    "        guess = input('please select number 0,1 or 2 : ')\n",
    "        \n",
    "    \n",
    "    return int(guess)        \n",
    "        "
   ]
  },
  {
   "cell_type": "code",
   "execution_count": 12,
   "metadata": {},
   "outputs": [],
   "source": [
    "# display game list\n",
    "\n",
    "game_list = [0,1,2]\n",
    "\n",
    "def display_list(game_list):\n",
    "    print('here is game list: ')\n",
    "    print(game_list)"
   ]
  },
  {
   "cell_type": "code",
   "execution_count": 15,
   "metadata": {},
   "outputs": [
    {
     "name": "stdout",
     "output_type": "stream",
     "text": [
      "here is game list\n",
      "[0, 1, 2]\n"
     ]
    }
   ],
   "source": [
    "display_list(game_list)"
   ]
  },
  {
   "cell_type": "code",
   "execution_count": 16,
   "metadata": {},
   "outputs": [],
   "source": [
    "# choosing a position \n",
    "\n",
    "def position_choice():\n",
    "    \n",
    "    choice=''\n",
    "    \n",
    "    while choice not in ['0','1','2']:\n",
    "        choice = input ('please choose position choice (0,1 or 2) : ')\n",
    "        \n",
    "        if choice not in ['0','1','2']:\n",
    "            print('try again')\n",
    "    \n",
    "    return int(choice)\n"
   ]
  },
  {
   "cell_type": "code",
   "execution_count": 18,
   "metadata": {},
   "outputs": [
    {
     "name": "stdout",
     "output_type": "stream",
     "text": [
      "please choose position choice (0,1 or 2) : 3\n",
      "try again\n",
      "please choose position choice (0,1 or 2) : 2\n"
     ]
    },
    {
     "data": {
      "text/plain": [
       "2"
      ]
     },
     "execution_count": 18,
     "metadata": {},
     "output_type": "execute_result"
    }
   ],
   "source": [
    "position_choice()"
   ]
  },
  {
   "cell_type": "code",
   "execution_count": 20,
   "metadata": {},
   "outputs": [],
   "source": [
    "# change the variable in the list\n",
    "\n",
    "def replacement_choice(game_list,position):\n",
    "    \n",
    "    user_input = input('type the varible to be changed at the position : ')\n",
    "    game_list[position] = user_input\n",
    "    \n",
    "    return game_list\n"
   ]
  },
  {
   "cell_type": "code",
   "execution_count": 21,
   "metadata": {},
   "outputs": [
    {
     "name": "stdout",
     "output_type": "stream",
     "text": [
      "type the varible to be changed at the position : damn\n"
     ]
    },
    {
     "data": {
      "text/plain": [
       "[0, 1, 'damn']"
      ]
     },
     "execution_count": 21,
     "metadata": {},
     "output_type": "execute_result"
    }
   ],
   "source": [
    "replacement_choice(game_list,2)"
   ]
  },
  {
   "cell_type": "code",
   "execution_count": 31,
   "metadata": {},
   "outputs": [],
   "source": [
    "# to keep playing on\n",
    "\n",
    "def play_onyn ():\n",
    "    \n",
    "    choice=''\n",
    "    \n",
    "    while choice not in ['Y','N']:\n",
    "        choice = input ('do you want to play on Y or N : ')\n",
    "        \n",
    "        if choice not in ['Y','N']:\n",
    "            print('try again')\n",
    "    \n",
    "    if choice == 'Y':\n",
    "        return True\n",
    "    else:\n",
    "        return False"
   ]
  },
  {
   "cell_type": "code",
   "execution_count": 32,
   "metadata": {},
   "outputs": [
    {
     "name": "stdout",
     "output_type": "stream",
     "text": [
      "do you want to play on Y or N : l\n",
      "try again\n",
      "do you want to play on Y or N : N\n"
     ]
    },
    {
     "data": {
      "text/plain": [
       "False"
      ]
     },
     "execution_count": 32,
     "metadata": {},
     "output_type": "execute_result"
    }
   ],
   "source": [
    "play_onyn()"
   ]
  },
  {
   "cell_type": "code",
   "execution_count": 33,
   "metadata": {},
   "outputs": [
    {
     "name": "stdout",
     "output_type": "stream",
     "text": [
      "here is game list\n",
      "[0, 1, 2]\n",
      "please choose position choice (0,1 or 2) : 2\n",
      "type the varible to be changed at the position : damn\n",
      "here is game list\n",
      "[0, 1, 'damn']\n",
      "do you want to play on Y or N : y\n",
      "try again\n",
      "do you want to play on Y or N : Y\n",
      "here is game list\n",
      "[0, 1, 'damn']\n",
      "please choose position choice (0,1 or 2) : 2\n",
      "type the varible to be changed at the position : annie\n",
      "here is game list\n",
      "[0, 1, 'annie']\n",
      "do you want to play on Y or N : n\n",
      "try again\n",
      "do you want to play on Y or N : N\n"
     ]
    }
   ],
   "source": [
    "# bring all togather\n",
    "\n",
    "play_on = True\n",
    "\n",
    "game_list = [0,1,2]\n",
    "\n",
    "while play_on :\n",
    "    \n",
    "    display_list(game_list)\n",
    "    \n",
    "    position = position_choice()\n",
    "    \n",
    "    game_list = replacement_choice(game_list,position) \n",
    "    \n",
    "    display_list(game_list)\n",
    "    \n",
    "    play_on = play_onyn()\n",
    "\n"
   ]
  },
  {
   "cell_type": "code",
   "execution_count": null,
   "metadata": {},
   "outputs": [],
   "source": []
  },
  {
   "cell_type": "code",
   "execution_count": null,
   "metadata": {},
   "outputs": [],
   "source": []
  },
  {
   "cell_type": "code",
   "execution_count": null,
   "metadata": {},
   "outputs": [],
   "source": []
  }
 ],
 "metadata": {
  "kernelspec": {
   "display_name": "Python 3",
   "language": "python",
   "name": "python3"
  },
  "language_info": {
   "codemirror_mode": {
    "name": "ipython",
    "version": 3
   },
   "file_extension": ".py",
   "mimetype": "text/x-python",
   "name": "python",
   "nbconvert_exporter": "python",
   "pygments_lexer": "ipython3",
   "version": "3.7.3"
  }
 },
 "nbformat": 4,
 "nbformat_minor": 2
}
