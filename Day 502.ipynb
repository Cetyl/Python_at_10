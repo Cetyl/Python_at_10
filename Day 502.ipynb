{
 "cells": [
  {
   "cell_type": "code",
   "execution_count": 1,
   "metadata": {},
   "outputs": [
    {
     "name": "stdout",
     "output_type": "stream",
     "text": [
      "0\n",
      "1\n",
      "3\n",
      "4\n",
      "5\n",
      "5\n",
      "77\n",
      "8\n",
      "8\n",
      "9\n",
      "7\n",
      "5\n",
      "3\n",
      "90\n"
     ]
    }
   ],
   "source": [
    "marks = [0,1,3,4,5,5,77,8,8,9,7,5,3,90]\n",
    "\n",
    "for mark in marks:\n",
    "    print (mark)"
   ]
  },
  {
   "cell_type": "code",
   "execution_count": 10,
   "metadata": {},
   "outputs": [
    {
     "name": "stdout",
     "output_type": "stream",
     "text": [
      "0\n",
      "1\n",
      "3\n",
      "4\n",
      "awsome\n",
      "5\n",
      "5\n",
      "77\n",
      "8\n",
      "8\n",
      "9\n",
      "7\n",
      "5\n",
      "3\n",
      "90\n"
     ]
    }
   ],
   "source": [
    "marks = [0,1,3,4,5,5,77,8,8,9,7,5,3,90]\n",
    "\n",
    "index = 0\n",
    "for mks in marks:\n",
    "    print(mks)\n",
    "    if (index == 3):\n",
    "        print(\"awsome\")\n",
    "        \n",
    "    index = index  + 1"
   ]
  },
  {
   "cell_type": "code",
   "execution_count": 15,
   "metadata": {},
   "outputs": [
    {
     "name": "stdout",
     "output_type": "stream",
     "text": [
      "0 0\n",
      "1 1\n",
      "2 3\n",
      "3 4\n",
      "4 5\n",
      "5 5\n",
      "6 77\n",
      "7 8\n",
      "8 8\n",
      "9 9\n",
      "10 7\n",
      "11 5\n",
      "12 3\n",
      "13 90\n"
     ]
    }
   ],
   "source": [
    "marks = [0,1,3,4,5,5,77,8,8,9,7,5,3,90]\n",
    "\n",
    "for index,mks in enumerate(marks):\n",
    "    print(index,mks)\n",
    "    \n"
   ]
  },
  {
   "cell_type": "code",
   "execution_count": 16,
   "metadata": {},
   "outputs": [
    {
     "name": "stdout",
     "output_type": "stream",
     "text": [
      "0 0\n",
      "1 1\n",
      "2 3\n",
      "3 4\n",
      "4 5\n",
      "5 5\n",
      "6 77\n",
      "success\n",
      "7 8\n",
      "8 8\n",
      "9 9\n",
      "10 7\n",
      "11 5\n",
      "12 3\n",
      "13 90\n"
     ]
    }
   ],
   "source": [
    "marks = [0,1,3,4,5,5,77,8,8,9,7,5,3,90]\n",
    "\n",
    "for index,mks in enumerate(marks):\n",
    "    print(index,mks)\n",
    "    if (index==6):\n",
    "        print (\"success\")"
   ]
  }
 ],
 "metadata": {
  "kernelspec": {
   "display_name": "base",
   "language": "python",
   "name": "python3"
  },
  "language_info": {
   "codemirror_mode": {
    "name": "ipython",
    "version": 3
   },
   "file_extension": ".py",
   "mimetype": "text/x-python",
   "name": "python",
   "nbconvert_exporter": "python",
   "pygments_lexer": "ipython3",
   "version": "3.7.3"
  }
 },
 "nbformat": 4,
 "nbformat_minor": 2
}
