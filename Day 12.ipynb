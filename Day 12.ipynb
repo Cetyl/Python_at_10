{
 "cells": [
  {
   "cell_type": "code",
   "execution_count": 5,
   "metadata": {},
   "outputs": [],
   "source": [
    "# guessing game\n",
    "my_list=['','0','']\n",
    "\n",
    "# shuffle my list\n",
    "from random import shuffle\n",
    "def shuffled(my_list):\n",
    "    shuffle(my_list)\n",
    "    return(my_list)\n",
    "\n",
    "# guess\n",
    "def my_guess():\n",
    "    guess = ''\n",
    "    while guess not in ['0','1','2']:\n",
    "        guess = input ('guess number')\n",
    "    return int(guess)\n",
    "\n",
    "# correct guess\n",
    "def correct_guess(my_list,guess):\n",
    "    if my_list[guess] == '0':\n",
    "        return ('its correct')\n",
    "    else:\n",
    "        return ('try again')\n",
    "        print(my_list)"
   ]
  },
  {
   "cell_type": "code",
   "execution_count": 6,
   "metadata": {},
   "outputs": [
    {
     "name": "stdout",
     "output_type": "stream",
     "text": [
      "guess number6\n",
      "guess number0\n"
     ]
    },
    {
     "data": {
      "text/plain": [
       "'try again'"
      ]
     },
     "execution_count": 6,
     "metadata": {},
     "output_type": "execute_result"
    }
   ],
   "source": [
    "correct_guess(shuffled(my_list),my_guess())"
   ]
  },
  {
   "cell_type": "code",
   "execution_count": 10,
   "metadata": {},
   "outputs": [],
   "source": [
    "# def a fun which gets in sum and multiples with 0.5\n",
    "def my_fun1(a,b,c=0,d=0):\n",
    "    return sum((a,b))**0.5"
   ]
  },
  {
   "cell_type": "code",
   "execution_count": 12,
   "metadata": {},
   "outputs": [
    {
     "data": {
      "text/plain": [
       "2.6457513110645907"
      ]
     },
     "execution_count": 12,
     "metadata": {},
     "output_type": "execute_result"
    }
   ],
   "source": [
    "my_fun1(1,6,5)"
   ]
  },
  {
   "cell_type": "code",
   "execution_count": 13,
   "metadata": {},
   "outputs": [],
   "source": [
    "# *args in order to elimainate the multiple inputs aruguement we use *args\n",
    "def my_fun2(*args):\n",
    "    print(args)"
   ]
  },
  {
   "cell_type": "code",
   "execution_count": 14,
   "metadata": {},
   "outputs": [
    {
     "name": "stdout",
     "output_type": "stream",
     "text": [
      "(20, 30, 40, 4)\n"
     ]
    }
   ],
   "source": [
    "my_fun2(20,30,40,4)"
   ]
  },
  {
   "cell_type": "code",
   "execution_count": 16,
   "metadata": {},
   "outputs": [],
   "source": [
    "# if we want it in non tuple format\n",
    "def my_fun2(*args):\n",
    "    for num in args:\n",
    "        print (num)"
   ]
  },
  {
   "cell_type": "code",
   "execution_count": 17,
   "metadata": {},
   "outputs": [
    {
     "name": "stdout",
     "output_type": "stream",
     "text": [
      "20\n",
      "30\n",
      "40\n",
      "4\n"
     ]
    }
   ],
   "source": [
    "my_fun2(20,30,40,4)"
   ]
  },
  {
   "cell_type": "code",
   "execution_count": 30,
   "metadata": {},
   "outputs": [],
   "source": [
    "# we can use the same functon for keyword arguements\n",
    "def my_fun3(**kwargs):\n",
    "    if 'fruit' in kwargs:\n",
    "        print('i love',kwargs['fruit'])\n",
    "    else:\n",
    "        print('dont have fruits')\n",
    "    "
   ]
  },
  {
   "cell_type": "code",
   "execution_count": 33,
   "metadata": {},
   "outputs": [
    {
     "name": "stdout",
     "output_type": "stream",
     "text": [
      "dont have fruits\n"
     ]
    }
   ],
   "source": [
    "my_fun3()"
   ]
  },
  {
   "cell_type": "code",
   "execution_count": 36,
   "metadata": {},
   "outputs": [],
   "source": [
    "# it gives out key word arguement as an out put to a multiple input\n",
    "def my_fun3(**kwargs):\n",
    "    print(kwargs)"
   ]
  },
  {
   "cell_type": "code",
   "execution_count": 37,
   "metadata": {},
   "outputs": [
    {
     "name": "stdout",
     "output_type": "stream",
     "text": [
      "{'fruit': 'apple', 'veg': 'lettuce'}\n"
     ]
    }
   ],
   "source": [
    "my_fun3(fruit='apple',veg ='lettuce')"
   ]
  },
  {
   "cell_type": "markdown",
   "metadata": {},
   "source": [
    "## Functions #8: *args\n",
    "Define a function called myfunc that takes in an arbitrary number of arguments, and returns the sum of those arguments."
   ]
  },
  {
   "cell_type": "code",
   "execution_count": 41,
   "metadata": {},
   "outputs": [
    {
     "data": {
      "text/plain": [
       "60"
      ]
     },
     "execution_count": 41,
     "metadata": {},
     "output_type": "execute_result"
    }
   ],
   "source": [
    "def my_fun4(*args):\n",
    "    return (sum(args))\n",
    "\n",
    "my_fun4(20,40)"
   ]
  },
  {
   "cell_type": "markdown",
   "metadata": {},
   "source": [
    "## Functions #9: pick evens\n",
    "Define a function called myfunc that takes in an arbitrary number of arguments, and returns a list containing only those arguments that are even"
   ]
  },
  {
   "cell_type": "code",
   "execution_count": 57,
   "metadata": {},
   "outputs": [
    {
     "name": "stdout",
     "output_type": "stream",
     "text": [
      "number is odd 5\n"
     ]
    }
   ],
   "source": [
    "def my_fun5(*args):\n",
    "    for num in args:\n",
    "        if num % 2 == 0:\n",
    "            print('number is even',num)\n",
    "        else:\n",
    "            print('number is odd',num)\n",
    "my_fun5(5)  "
   ]
  },
  {
   "cell_type": "markdown",
   "metadata": {},
   "source": [
    "## Functions #10: skyline\n",
    "Define a function called myfunc that takes in a string, and returns a matching string where every even letter is uppercase, and every odd letter is lowercase. Assume that the incoming string only contains letters, and don't worry about numbers, spaces or punctuation. The output string can start with either an uppercase or lowercase letter, so long as letters alternate throughout the string."
   ]
  },
  {
   "cell_type": "code",
   "execution_count": 147,
   "metadata": {},
   "outputs": [],
   "source": [
    "def my_fun6(word):\n",
    "    i =[]\n",
    "\n",
    "    for (letter) in range(len(word)):\n",
    "        if letter % 2 != 0 :\n",
    "            i.append(word [letter].upper())\n",
    "        else:\n",
    "            i.append(word [letter].lower())\n",
    "    return (i)          \n"
   ]
  },
  {
   "cell_type": "code",
   "execution_count": 148,
   "metadata": {},
   "outputs": [
    {
     "data": {
      "text/plain": [
       "['r', 'O', 'h', 'A', 'n']"
      ]
     },
     "execution_count": 148,
     "metadata": {},
     "output_type": "execute_result"
    }
   ],
   "source": [
    "my_fun6('rohan')"
   ]
  },
  {
   "cell_type": "code",
   "execution_count": 149,
   "metadata": {},
   "outputs": [
    {
     "data": {
      "text/plain": [
       "['w', 'O', 'r', 'D', 'l', 'I', 'f', 'E']"
      ]
     },
     "execution_count": 149,
     "metadata": {},
     "output_type": "execute_result"
    }
   ],
   "source": [
    "word = 'wordlife'\n",
    "i =[]\n",
    "for (letter) in range(len(word)):\n",
    "    if letter % 2 != 0 :\n",
    "         i.append(word [letter].upper())\n",
    "    else:\n",
    "        i.append(word [letter].lower())\n",
    "i    "
   ]
  },
  {
   "cell_type": "code",
   "execution_count": 157,
   "metadata": {},
   "outputs": [],
   "source": [
    "def fun7(word):\n",
    "    i = []\n",
    "    for letter in range(len(word)):\n",
    "        if letter % 2 == 0:\n",
    "            i.append(word[letter].upper())\n",
    "        else:\n",
    "            i.append(word[letter].lower())\n",
    "    return(i)"
   ]
  },
  {
   "cell_type": "code",
   "execution_count": 158,
   "metadata": {},
   "outputs": [
    {
     "data": {
      "text/plain": [
       "['J', 'a', 'N', 'i', 'S', 'j', 'O', 'p', 'L', 'i', 'N']"
      ]
     },
     "execution_count": 158,
     "metadata": {},
     "output_type": "execute_result"
    }
   ],
   "source": [
    "fun7('janisjoplin')"
   ]
  }
 ],
 "metadata": {
  "kernelspec": {
   "display_name": "Python 3",
   "language": "python",
   "name": "python3"
  },
  "language_info": {
   "codemirror_mode": {
    "name": "ipython",
    "version": 3
   },
   "file_extension": ".py",
   "mimetype": "text/x-python",
   "name": "python",
   "nbconvert_exporter": "python",
   "pygments_lexer": "ipython3",
   "version": "3.7.3"
  }
 },
 "nbformat": 4,
 "nbformat_minor": 2
}
