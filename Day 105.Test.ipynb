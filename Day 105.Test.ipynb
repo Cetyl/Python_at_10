{
 "cells": [
  {
   "cell_type": "code",
   "execution_count": 10,
   "metadata": {},
   "outputs": [
    {
     "name": "stdout",
     "output_type": "stream",
     "text": [
      "| | |\n",
      "-----\n",
      "| | |\n",
      "-----\n",
      "| | |\n"
     ]
    }
   ],
   "source": [
    "# to print the structure of tic tac toe\n",
    "#it should be like numpad\n",
    "\n",
    "print('|','|','|')\n",
    "print('-----')\n",
    "print('|','|','|')\n",
    "print('-----')\n",
    "print('|','|','|')\n"
   ]
  },
  {
   "cell_type": "code",
   "execution_count": 11,
   "metadata": {},
   "outputs": [],
   "source": [
    "# define it in a function\n",
    "\n",
    "def print1():\n",
    "    print('|','|','|')\n",
    "    print('-----')\n",
    "    print('|','|','|')\n",
    "    print('-----')\n",
    "    print('|','|','|')"
   ]
  },
  {
   "cell_type": "code",
   "execution_count": 14,
   "metadata": {},
   "outputs": [
    {
     "name": "stdout",
     "output_type": "stream",
     "text": [
      "| | |\n",
      "-----\n",
      "| | |\n",
      "-----\n",
      "| | |\n"
     ]
    }
   ],
   "source": [
    "print1()"
   ]
  },
  {
   "cell_type": "code",
   "execution_count": 24,
   "metadata": {},
   "outputs": [
    {
     "name": "stdout",
     "output_type": "stream",
     "text": [
      "X|O|X\n",
      "-----\n",
      "X|O|X\n",
      "-----\n",
      "X|O|X\n"
     ]
    }
   ],
   "source": [
    "# to add the list values in the visual form\n",
    "\n",
    "tic = ['#','X','O','X','X','O','X','X','O','X']\n",
    "\n",
    "print(tic[7]+'|'+tic[8]+'|'+tic[9])\n",
    "print('-----')\n",
    "print(tic[4]+'|'+tic[5]+'|'+tic[6])\n",
    "print('-----')\n",
    "print(tic[1]+'|'+tic[2]+'|'+tic[3])"
   ]
  },
  {
   "cell_type": "code",
   "execution_count": 25,
   "metadata": {},
   "outputs": [],
   "source": [
    "# putting it on a function\n",
    "\n",
    "def print2():\n",
    "    print(tic[7]+'|'+tic[8]+'|'+tic[9])\n",
    "    print('-----')\n",
    "    print(tic[4]+'|'+tic[5]+'|'+tic[6])\n",
    "    print('-----')\n",
    "    print(tic[1]+'|'+tic[2]+'|'+tic[3])\n",
    "    "
   ]
  },
  {
   "cell_type": "code",
   "execution_count": 26,
   "metadata": {},
   "outputs": [
    {
     "name": "stdout",
     "output_type": "stream",
     "text": [
      "X|O|X\n",
      "-----\n",
      "X|O|X\n",
      "-----\n",
      "X|O|X\n"
     ]
    }
   ],
   "source": [
    "print2()"
   ]
  },
  {
   "cell_type": "markdown",
   "metadata": {},
   "source": [
    "## To clear the screen between moves:\n",
    "\n",
    "from IPython.display import clear_output\n",
    "clear_output()"
   ]
  },
  {
   "cell_type": "code",
   "execution_count": 31,
   "metadata": {},
   "outputs": [],
   "source": [
    "tic = ['']*10\n",
    "from IPython.display import clear_output \n",
    "def print2():\n",
    "    clear_output()\n",
    "    print(tic[7]+'|'+tic[8]+'|'+tic[9])\n",
    "    print('-----')\n",
    "    print(tic[4]+'|'+tic[5]+'|'+tic[6])\n",
    "    print('-----')\n",
    "    print(tic[1]+'|'+tic[2]+'|'+tic[3])\n"
   ]
  },
  {
   "cell_type": "code",
   "execution_count": 32,
   "metadata": {},
   "outputs": [
    {
     "name": "stdout",
     "output_type": "stream",
     "text": [
      "||\n",
      "-----\n",
      "||\n",
      "-----\n",
      "||\n"
     ]
    }
   ],
   "source": [
    "print2()"
   ]
  },
  {
   "cell_type": "code",
   "execution_count": 6,
   "metadata": {},
   "outputs": [
    {
     "name": "stdout",
     "output_type": "stream",
     "text": [
      "choose X or O : X\n",
      "player1 = X\n"
     ]
    }
   ],
   "source": [
    "# assign the value of 'x' and 'o' to the player\n",
    "player1=''\n",
    "player2=''\n",
    "\n",
    "while True :\n",
    "        player1 = input('choose X or O : ') \n",
    "        \n",
    "        if player1 == 'X' :\n",
    "            print ('player1 = X')\n",
    "            player2 = 'O'\n",
    "            break\n",
    "            \n",
    "        else:\n",
    "            player2 = 'X'\n",
    "            print ('player1 = O')\n",
    "            break\n",
    "            \n",
    "            \n",
    "        \n",
    "\n",
    "        "
   ]
  },
  {
   "cell_type": "code",
   "execution_count": 7,
   "metadata": {},
   "outputs": [
    {
     "data": {
      "text/plain": [
       "('X', 'O')"
      ]
     },
     "execution_count": 7,
     "metadata": {},
     "output_type": "execute_result"
    }
   ],
   "source": [
    "player1, player2"
   ]
  },
  {
   "cell_type": "code",
   "execution_count": 30,
   "metadata": {},
   "outputs": [],
   "source": [
    "# put it in a function\n",
    "def choose():\n",
    "    player1=''\n",
    "    player2=''\n",
    "\n",
    "    while True :\n",
    "        player1 = input('choose X or O : ') \n",
    "        if player1 == 'X':\n",
    "            print ('player1 = X')\n",
    "            player2 = 'O'\n",
    "            break\n",
    "        else:\n",
    "            player2 == 'X'\n",
    "            print ('player1 = O')\n",
    "            break\n",
    "    return (player1,player2)       \n",
    "    "
   ]
  },
  {
   "cell_type": "code",
   "execution_count": 31,
   "metadata": {},
   "outputs": [
    {
     "name": "stdout",
     "output_type": "stream",
     "text": [
      "choose X or O : X\n",
      "player1 = X\n"
     ]
    },
    {
     "data": {
      "text/plain": [
       "('X', 'O')"
      ]
     },
     "execution_count": 31,
     "metadata": {},
     "output_type": "execute_result"
    }
   ],
   "source": [
    "choose()"
   ]
  },
  {
   "cell_type": "code",
   "execution_count": 8,
   "metadata": {},
   "outputs": [],
   "source": [
    "# another method\n",
    "\n",
    "def choice():\n",
    "    \n",
    "    player1 = ''\n",
    "\n",
    "    while player1 != 'X' and player1 != 'O' :\n",
    "        player1 = input('choose X or O : ')\n",
    "    \n",
    "        \n",
    "    \n",
    "        if player1 == 'X':\n",
    "            player2 = 'O'\n",
    "        else:\n",
    "            player2 = 'X'\n",
    "            \n",
    "    return (player1 , player2)       \n",
    "        "
   ]
  },
  {
   "cell_type": "code",
   "execution_count": 2,
   "metadata": {},
   "outputs": [
    {
     "name": "stdout",
     "output_type": "stream",
     "text": [
      "choose X or O : x\n",
      "choose X or O : X\n"
     ]
    },
    {
     "data": {
      "text/plain": [
       "('X', 'O')"
      ]
     },
     "execution_count": 2,
     "metadata": {},
     "output_type": "execute_result"
    }
   ],
   "source": [
    "choice()"
   ]
  },
  {
   "cell_type": "code",
   "execution_count": null,
   "metadata": {},
   "outputs": [],
   "source": []
  },
  {
   "cell_type": "code",
   "execution_count": null,
   "metadata": {},
   "outputs": [],
   "source": []
  },
  {
   "cell_type": "code",
   "execution_count": null,
   "metadata": {},
   "outputs": [],
   "source": []
  },
  {
   "cell_type": "code",
   "execution_count": null,
   "metadata": {},
   "outputs": [],
   "source": []
  },
  {
   "cell_type": "code",
   "execution_count": null,
   "metadata": {},
   "outputs": [],
   "source": []
  },
  {
   "cell_type": "code",
   "execution_count": null,
   "metadata": {},
   "outputs": [],
   "source": []
  }
 ],
 "metadata": {
  "kernelspec": {
   "display_name": "Python 3",
   "language": "python",
   "name": "python3"
  },
  "language_info": {
   "codemirror_mode": {
    "name": "ipython",
    "version": 3
   },
   "file_extension": ".py",
   "mimetype": "text/x-python",
   "name": "python",
   "nbconvert_exporter": "python",
   "pygments_lexer": "ipython3",
   "version": "3.7.3"
  }
 },
 "nbformat": 4,
 "nbformat_minor": 2
}
